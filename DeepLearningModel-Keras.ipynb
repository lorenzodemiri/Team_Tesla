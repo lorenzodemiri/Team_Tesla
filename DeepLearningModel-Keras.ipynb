{
 "cells": [
  {
   "cell_type": "code",
   "execution_count": 11,
   "metadata": {},
   "outputs": [
    {
     "name": "stdout",
     "output_type": "stream",
     "text": [
      "Collecting keras\n",
      "  Downloading Keras-2.4.3-py2.py3-none-any.whl (36 kB)\n",
      "Requirement already satisfied: scipy>=0.14 in d:\\python\\anaconda\\lib\\site-packages (from keras) (1.5.2)\n",
      "Requirement already satisfied: h5py in d:\\python\\anaconda\\lib\\site-packages (from keras) (2.10.0)\n",
      "Requirement already satisfied: numpy>=1.9.1 in d:\\python\\anaconda\\lib\\site-packages (from keras) (1.19.2)\n",
      "Requirement already satisfied: pyyaml in d:\\python\\anaconda\\lib\\site-packages (from keras) (5.3.1)\n",
      "Requirement already satisfied: six in d:\\python\\anaconda\\lib\\site-packages (from h5py->keras) (1.15.0)\n",
      "Installing collected packages: keras\n",
      "Successfully installed keras-2.4.3\n"
     ]
    }
   ],
   "source": [
    "#!pip install keras"
   ]
  },
  {
   "cell_type": "code",
   "execution_count": 12,
   "metadata": {},
   "outputs": [],
   "source": [
    "import os\n",
    "import keras"
   ]
  },
  {
   "cell_type": "code",
   "execution_count": 13,
   "metadata": {},
   "outputs": [],
   "source": [
    "directory_annotations = './classification images/'\n",
    "filenames = []\n",
    "classification = []"
   ]
  },
  {
   "cell_type": "code",
   "execution_count": 14,
   "metadata": {},
   "outputs": [],
   "source": [
    "label_filenames_temp = os.listdir(directory_annotations)\n",
    "filenames = []\n",
    "for lbl in label_filenames_temp:\n",
    "    filenames.append(lbl.split('.')[0])\n",
    "filecount = len(filenames)\n",
    "indexes = []\n",
    "for index in range(filecount):\n",
    "     indexes.append(index)\n",
    "training_indexes = indexes[:int(filecount*0.7)]\n",
    "validation_indexes = indexes[int(filecount*0.7):int(filecount*0.9)]\n",
    "testing_indexes = indexes[int(filecount*0.9):]"
   ]
  }
 ],
 "metadata": {
  "kernelspec": {
   "display_name": "Python 3",
   "language": "python",
   "name": "python3"
  },
  "language_info": {
   "codemirror_mode": {
    "name": "ipython",
    "version": 3
   },
   "file_extension": ".py",
   "mimetype": "text/x-python",
   "name": "python",
   "nbconvert_exporter": "python",
   "pygments_lexer": "ipython3",
   "version": "3.8.5"
  }
 },
 "nbformat": 4,
 "nbformat_minor": 4
}
